{
 "cells": [
  {
   "cell_type": "markdown",
   "id": "1231b3c3-645b-4cc6-9fa9-957910a6af1b",
   "metadata": {},
   "source": [
    "## Project Milestone 3 :  Cleaning and Formatting Life Expectancy Data from Wikipedia"
   ]
  },
  {
   "cell_type": "markdown",
   "id": "b7b3f791-0a10-48b1-b11e-e66205962c55",
   "metadata": {},
   "source": [
    "### Step 0: Import Libraries"
   ]
  },
  {
   "cell_type": "code",
   "execution_count": 96,
   "id": "132214b5-4a18-4053-be43-5b8752bbc4c1",
   "metadata": {},
   "outputs": [],
   "source": [
    "# Need pandas for data manipulation, numpy for numerical operations,\n",
    "# requests to fetch the webpage, and BeautifulSoup to parse HTML content\n",
    "import pandas as pd\n",
    "import numpy as np\n",
    "import requests\n",
    "from bs4 import BeautifulSoup\n",
    "from io import StringIO"
   ]
  },
  {
   "cell_type": "markdown",
   "id": "79217e46-d8ca-4002-8b7e-af42841ac46c",
   "metadata": {},
   "source": [
    "### Step 1: Load the HTML page"
   ]
  },
  {
   "cell_type": "code",
   "execution_count": 98,
   "id": "6ce957a1-b141-42df-8464-8d953bec0e17",
   "metadata": {},
   "outputs": [
    {
     "name": "stdout",
     "output_type": "stream",
     "text": [
      "Fetching data from Wikipedia...\n"
     ]
    }
   ],
   "source": [
    "# Send a GET request to the Wikipedia page and parse the content\n",
    "url = \"https://en.wikipedia.org/wiki/List_of_U.S._states_and_territories_by_life_expectancy\"\n",
    "print(\"Fetching data from Wikipedia...\")\n",
    "response = requests.get(url)\n",
    "soup = BeautifulSoup(response.text, 'html.parser')"
   ]
  },
  {
   "cell_type": "markdown",
   "id": "086e30b1-da35-423a-bf7e-61638cbf8235",
   "metadata": {},
   "source": [
    "### Extract all HTML tables from the page using pandas"
   ]
  },
  {
   "cell_type": "code",
   "execution_count": 100,
   "id": "478eabdb-a516-4e7a-855c-d627c19b81d3",
   "metadata": {},
   "outputs": [
    {
     "name": "stdout",
     "output_type": "stream",
     "text": [
      "Extracting tables from the page...\n",
      "21 tables found on the page.\n"
     ]
    }
   ],
   "source": [
    "print(\"Extracting tables from the page...\")\n",
    "tables = pd.read_html(StringIO(response.text))\n",
    "print(f\"{len(tables)} tables found on the page.\")"
   ]
  },
  {
   "cell_type": "markdown",
   "id": "64c595c3-312a-498d-abfd-cc76e14da6f2",
   "metadata": {},
   "source": [
    "### Using the second table (manually identified to be the relevant one for life expectancy data)"
   ]
  },
  {
   "cell_type": "code",
   "execution_count": 102,
   "id": "21a98e84-7eab-4fb9-8156-9f0fb51d53a9",
   "metadata": {},
   "outputs": [
    {
     "name": "stdout",
     "output_type": "stream",
     "text": [
      "Preview of raw data:\n",
      "  State / Territory   2014                     2014 →2019   2019         \\\n",
      "  State / Territory    All   Male Female F Δ M 2014 →2019    All   Male   \n",
      "0     United States  78.89  76.46  81.25  4.79       0.02  78.91  76.40   \n",
      "1            Hawaii  81.46  78.63  84.19  5.56       0.14  81.60  78.63   \n",
      "2        California  81.04  78.73  83.26  4.53       0.11  81.15  78.69   \n",
      "3          New York  80.69  78.27  82.90  4.63       0.37  81.06  78.54   \n",
      "4         Minnesota  80.90  78.84  82.89  4.05      −0.23  80.67  78.45   \n",
      "\n",
      "                ...   2020                     2020 →2021   2021         \\\n",
      "  Female F Δ M  ...    All   Male Female F Δ M 2020 →2021    All   Male   \n",
      "0  81.43  5.03  ...  77.05  74.32  79.88  5.56      −0.60  76.45  73.63   \n",
      "1  84.60  5.97  ...  81.64  78.60  84.71  6.11      −0.75  80.89  77.85   \n",
      "2  83.60  4.91  ...  79.24  76.44  82.16  5.72      −0.66  78.58  75.59   \n",
      "3  83.43  4.89  ...  78.25  75.32  81.19  5.87       1.18  79.43  76.68   \n",
      "4  82.90  4.45  ...  79.29  77.03  81.62  4.59      −0.30  78.99  76.45   \n",
      "\n",
      "               2019 →2021  \n",
      "  Female F Δ M 2019 →2021  \n",
      "0  79.41  5.78      −2.46  \n",
      "1  84.10  6.25      −0.71  \n",
      "2  81.74  6.15      −2.57  \n",
      "3  82.12  5.44      −1.63  \n",
      "4  81.65  5.20      −1.68  \n",
      "\n",
      "[5 rows x 21 columns]\n"
     ]
    }
   ],
   "source": [
    "life_expectancy_df = tables[1]\n",
    "print(\"Preview of raw data:\")\n",
    "print(life_expectancy_df.head())"
   ]
  },
  {
   "cell_type": "markdown",
   "id": "25c0d71d-a195-4635-94a8-c833afc368e6",
   "metadata": {},
   "source": [
    "### Step 2: Rename columns for clarity"
   ]
  },
  {
   "cell_type": "code",
   "execution_count": 104,
   "id": "41913ba8-373b-40e4-a36e-4b0a86a74672",
   "metadata": {},
   "outputs": [
    {
     "name": "stdout",
     "output_type": "stream",
     "text": [
      "Renaming columns for clarity...\n",
      "Original columns: [('State / Territory', 'State / Territory'), ('2014', 'All'), ('2014', 'Male'), ('2014', 'Female'), ('2014', 'F Δ M'), ('2014 →2019', '2014 →2019'), ('2019', 'All'), ('2019', 'Male'), ('2019', 'Female'), ('2019', 'F Δ M'), ('2019 →2020', '2019 →2020'), ('2020', 'All'), ('2020', 'Male'), ('2020', 'Female'), ('2020', 'F Δ M'), ('2020 →2021', '2020 →2021'), ('2021', 'All'), ('2021', 'Male'), ('2021', 'Female'), ('2021', 'F Δ M'), ('2019 →2021', '2019 →2021')]\n"
     ]
    }
   ],
   "source": [
    "# Replacing confusing or overly long column headers with simplified versions\n",
    "print(\"Renaming columns for clarity...\")\n",
    "print(f\"Original columns: {life_expectancy_df.columns.tolist()}\")"
   ]
  },
  {
   "cell_type": "code",
   "execution_count": 105,
   "id": "d815e19e-29c6-4e12-bcdc-0cdb0e742f66",
   "metadata": {},
   "outputs": [
    {
     "name": "stdout",
     "output_type": "stream",
     "text": [
      "Number of columns in the table: 21\n"
     ]
    }
   ],
   "source": [
    "# Print the number of columns to help match with correct renaming\n",
    "print(f\"Number of columns in the table: {len(life_expectancy_df.columns)}\")"
   ]
  },
  {
   "cell_type": "code",
   "execution_count": 106,
   "id": "6eff8ce2-5db9-4486-939e-b9b0c06d3cc3",
   "metadata": {},
   "outputs": [],
   "source": [
    "# Dynamically renaming the first 9 columns and leave others unchanged\n",
    "new_column_names = [\n",
    "    \"State_Territory\", \"2020_Life_Expectancy\", \"2020_Male\", \"2020_Female\",\n",
    "    \"Change_2019_2020\", \"2019_Life_Expectancy\", \"2010_Life_Expectancy\",\n",
    "    \"Change_2010_2020\", \"2000_Life_Expectancy\"\n",
    "] + life_expectancy_df.columns[9:].tolist()"
   ]
  },
  {
   "cell_type": "code",
   "execution_count": 107,
   "id": "3371329a-ed66-4f1f-a906-27651c9b96f5",
   "metadata": {},
   "outputs": [
    {
     "name": "stdout",
     "output_type": "stream",
     "text": [
      "Updated column names:\n",
      "['State_Territory', '2020_Life_Expectancy', '2020_Male', '2020_Female', 'Change_2019_2020', '2019_Life_Expectancy', '2010_Life_Expectancy', 'Change_2010_2020', '2000_Life_Expectancy', ('2019', 'F Δ M'), ('2019 →2020', '2019 →2020'), ('2020', 'All'), ('2020', 'Male'), ('2020', 'Female'), ('2020', 'F Δ M'), ('2020 →2021', '2020 →2021'), ('2021', 'All'), ('2021', 'Male'), ('2021', 'Female'), ('2021', 'F Δ M'), ('2019 →2021', '2019 →2021')]\n"
     ]
    }
   ],
   "source": [
    "life_expectancy_df.columns = new_column_names\n",
    "\n",
    "print(\"Updated column names:\")\n",
    "print(life_expectancy_df.columns.tolist())"
   ]
  },
  {
   "cell_type": "markdown",
   "id": "400acfd4-6b20-4e2d-88d6-c5865248c30e",
   "metadata": {},
   "source": [
    "### Step 3: Remove rows with non-state data (e.g., footnotes or summary rows)"
   ]
  },
  {
   "cell_type": "code",
   "execution_count": 109,
   "id": "9d56d56b-160f-41a8-a66e-fa27ada0fb85",
   "metadata": {},
   "outputs": [
    {
     "name": "stdout",
     "output_type": "stream",
     "text": [
      "Removing rows with missing life expectancy values...\n",
      "Removed 0 rows with missing data.\n"
     ]
    }
   ],
   "source": [
    "print(\"Removing rows with missing life expectancy values...\")\n",
    "initial_row_count = len(life_expectancy_df)\n",
    "life_expectancy_df = life_expectancy_df[life_expectancy_df['2020_Life_Expectancy'].notna()]\n",
    "print(f\"Removed {initial_row_count - len(life_expectancy_df)} rows with missing data.\")"
   ]
  },
  {
   "cell_type": "markdown",
   "id": "ec9fc62a-b80d-4135-aa2e-a9bd1aebbaa6",
   "metadata": {},
   "source": [
    "### Step 4: Strip whitespace and fix casing in the State_Territory column"
   ]
  },
  {
   "cell_type": "code",
   "execution_count": 111,
   "id": "0e29f0b2-a789-4e86-a646-729b8f87d249",
   "metadata": {},
   "outputs": [
    {
     "name": "stdout",
     "output_type": "stream",
     "text": [
      "Standardizing state and territory names...\n",
      "Preview after casing fix:\n",
      "  State_Territory\n",
      "0   United States\n",
      "1          Hawaii\n",
      "2      California\n",
      "3        New York\n",
      "4       Minnesota\n"
     ]
    }
   ],
   "source": [
    "# Ensuring consistency in naming format for downstream processing\n",
    "print(\"Standardizing state and territory names...\")\n",
    "life_expectancy_df['State_Territory'] = life_expectancy_df['State_Territory'].str.strip().str.title()\n",
    "print(\"Preview after casing fix:\")\n",
    "print(life_expectancy_df[['State_Territory']].head())"
   ]
  },
  {
   "cell_type": "markdown",
   "id": "2773b4c1-be7a-4130-9813-f75a693efed4",
   "metadata": {},
   "source": [
    "### Step 5: Convert numeric columns from object to float"
   ]
  },
  {
   "cell_type": "code",
   "execution_count": 113,
   "id": "ed7f8f41-6235-48c3-9fa5-5473f938f0c6",
   "metadata": {},
   "outputs": [
    {
     "name": "stdout",
     "output_type": "stream",
     "text": [
      "Converting numeric columns from object to float...\n",
      "Numeric conversion complete.\n"
     ]
    }
   ],
   "source": [
    "# Some columns are stored as objects due to formatting.Converting them to float for analysis\n",
    "print(\"Converting numeric columns from object to float...\")\n",
    "num_cols = [\n",
    "    \"2020_Life_Expectancy\", \"2020_Male\", \"2020_Female\",\n",
    "    \"Change_2019_2020\", \"2019_Life_Expectancy\", \"2010_Life_Expectancy\",\n",
    "    \"Change_2010_2020\", \"2000_Life_Expectancy\"\n",
    "]\n",
    "life_expectancy_df[num_cols] = life_expectancy_df[num_cols].apply(pd.to_numeric, errors='coerce')\n",
    "print(\"Numeric conversion complete.\")"
   ]
  },
  {
   "cell_type": "markdown",
   "id": "1e2995f4-4dfb-4506-a908-a1f6adc601f5",
   "metadata": {},
   "source": [
    "### Step 6: Identify and handle outliers"
   ]
  },
  {
   "cell_type": "code",
   "execution_count": 115,
   "id": "f15bfad0-36cf-4e23-844c-6512445aa50c",
   "metadata": {},
   "outputs": [
    {
     "name": "stdout",
     "output_type": "stream",
     "text": [
      "Checking for outliers in life expectancy (2020)...\n",
      "Found 0 outliers. Removing them...\n"
     ]
    }
   ],
   "source": [
    "# Flagging any life expectancy values outside reasonable bounds (<60 or >90)\n",
    "print(\"Checking for outliers in life expectancy (2020)...\")\n",
    "outlier_mask = (life_expectancy_df['2020_Life_Expectancy'] < 60) | (life_expectancy_df['2020_Life_Expectancy'] > 90)\n",
    "outliers = life_expectancy_df[outlier_mask]\n",
    "print(f\"Found {len(outliers)} outliers. Removing them...\")\n",
    "life_expectancy_df = life_expectancy_df[~outlier_mask]"
   ]
  },
  {
   "cell_type": "markdown",
   "id": "66d6704d-f4f4-43b1-9bb1-be99ba80d745",
   "metadata": {},
   "source": [
    "### Step 7: Extract and print section headers using BeautifulSoup"
   ]
  },
  {
   "cell_type": "code",
   "execution_count": 117,
   "id": "0abb9d41-a38b-440a-96c2-707dbe24cf35",
   "metadata": {},
   "outputs": [
    {
     "name": "stdout",
     "output_type": "stream",
     "text": [
      "\n",
      "Section Headers on Wikipedia Page:\n",
      "\n",
      "- Contents\n",
      "- History\n",
      "- Methodology\n",
      "- National Center for Health Statistics (2019–2021)\n",
      "- US Mortality DataBase (2014–2021)\n",
      "- Global Data Lab (2019–2021)\n",
      "- Percentage surviving in 2019\n",
      "- Data of the National Center for Health Statistics\n",
      "- Data of the United States Mortality DataBase\n",
      "- Past life expectancy, 1940–2019\n",
      "- Life expectancy in counties with 500,000+ people in 2019\n",
      "- Charts\n",
      "- See also\n",
      "- References\n"
     ]
    }
   ],
   "source": [
    "print(\"\\nSection Headers on Wikipedia Page:\\n\")\n",
    "section_headers = soup.find_all(['h2', 'h3'])\n",
    "for header in section_headers:\n",
    "    header_text = header.get_text(strip=True).replace('[edit]', '')\n",
    "    print(\"-\", header_text)\n"
   ]
  },
  {
   "cell_type": "markdown",
   "id": "1083a317-601b-4633-93bd-03aafd97577d",
   "metadata": {},
   "source": [
    "### Step 8: Final cleaned dataset output"
   ]
  },
  {
   "cell_type": "code",
   "execution_count": 119,
   "id": "d7111e35-3302-47f0-acdf-27d2f486a814",
   "metadata": {},
   "outputs": [
    {
     "name": "stdout",
     "output_type": "stream",
     "text": [
      "\n",
      "Cleaned Life Expectancy Dataset:\n",
      "\n",
      "   State_Territory  2020_Life_Expectancy  2020_Male  2020_Female  Change_2019_2020  2019_Life_Expectancy  2010_Life_Expectancy  Change_2010_2020  2000_Life_Expectancy  (2019, F Δ M) (2019 →2020, 2019 →2020)  (2020, All)  (2020, Male)  (2020, Female)  (2020, F Δ M) (2020 →2021, 2020 →2021)  (2021, All)  (2021, Male)  (2021, Female)  (2021, F Δ M) (2019 →2021, 2019 →2021)\n",
      "     United States                 78.89      76.46        81.25              4.79                  0.02                 78.91             76.40                 81.43           5.03                    −1.86        77.05         74.32           79.88           5.56                    −0.60        76.45         73.63           79.41           5.78                    −2.46\n",
      "            Hawaii                 81.46      78.63        84.19              5.56                  0.14                 81.60             78.63                 84.60           5.97                     0.04        81.64         78.60           84.71           6.11                    −0.75        80.89         77.85           84.10           6.25                    −0.71\n",
      "        California                 81.04      78.73        83.26              4.53                  0.11                 81.15             78.69                 83.60           4.91                    −1.91        79.24         76.44           82.16           5.72                    −0.66        78.58         75.59           81.74           6.15                    −2.57\n",
      "          New York                 80.69      78.27        82.90              4.63                  0.37                 81.06             78.54                 83.43           4.89                    −2.81        78.25         75.32           81.19           5.87                     1.18        79.43         76.68           82.12           5.44                    −1.63\n",
      "         Minnesota                 80.90      78.84        82.89              4.05                   NaN                 80.67             78.45                 82.90           4.45                    −1.38        79.29         77.03           81.62           4.59                    −0.30        78.99         76.45           81.65           5.20                    −1.68\n",
      "     Massachusetts                 80.55      77.98        82.95              4.97                  0.08                 80.63             78.10                 83.05           4.95                    −1.37        79.26         76.72           81.77           5.05                     0.56        79.82         77.11           82.48           5.37                    −0.81\n",
      "       Connecticut                 80.97      78.61        83.17              4.56                   NaN                 80.56             77.96                 83.08           5.12                    −1.88        78.68         75.93           81.46           5.53                     0.70        79.38         76.52           82.26           5.74                    −1.18\n",
      "        New Jersey                 80.29      77.94        82.48              4.54                  0.11                 80.40             77.95                 82.76           4.81                    −2.47        77.93         75.09           80.81           5.72                     1.32        79.25         76.59           81.90           5.31                    −1.15\n",
      "          Colorado                 80.18      78.01        82.32              4.31                  0.07                 80.25             78.05                 82.50           4.45                    −1.76        78.49         76.01           81.11           5.10                    −0.57        77.92         75.18           80.87           5.69                    −2.33\n",
      "Washington (State)                 80.18      78.03        82.32              4.29                  0.02                 80.20             78.10                 82.33           4.23                    −0.83        79.37         77.10           81.73           4.63                    −1.03        78.34         75.89           80.93           5.04                    −1.86\n",
      "           Vermont                 80.06      77.86        82.16              4.30                   NaN                 80.02             77.51                 82.56           5.05                    −0.73        79.29         76.88           81.72           4.84                    −0.67        78.62         75.86           81.43           5.57                    −1.40\n",
      "              Utah                 79.65      77.97        81.33              3.36                  0.27                 79.92             78.19                 81.69           3.50                    −1.17        78.75         76.93           80.63           3.70                    −0.53        78.22         76.32           80.21           3.89                    −1.70\n",
      "      Rhode Island                 79.95      77.60        82.08              4.48                   NaN                 79.79             77.25                 82.19           4.94                    −1.14        78.65         75.99           81.32           5.33                     0.15        78.80         76.21           81.38           5.17                    −0.99\n",
      "             Idaho                 79.35      77.38        81.34              3.96                  0.34                 79.69             77.77                 81.68           3.91                    −1.12        78.57         76.39           80.88           4.49                    −1.39        77.18         74.81           79.74           4.93                    −2.51\n",
      "     New Hampshire                 79.87      77.67        82.04              4.37                   NaN                 79.67             77.33                 82.04           4.71                    −0.40        79.27         76.80           81.85           5.05                    −0.56        78.71         76.17           81.37           5.20                    −0.96\n",
      "            Oregon                 79.49      77.29        81.66              4.37                  0.17                 79.66             77.42                 81.93           4.51                    −0.81        78.85         76.45           81.34           4.89                    −1.36        77.49         74.87           80.27           5.40                    −2.17\n",
      "           Florida                 79.39      76.78        81.97              5.19                  0.15                 79.54             76.80                 82.29           5.49                    −1.56        77.98         75.10           80.95           5.85                    −1.31        76.67         73.64           79.85           6.21                    −2.87\n",
      "          Nebraska                 79.40      77.09        81.71              4.62                   NaN                 79.38             77.33                 81.44           4.11                    −1.49        77.89         75.48           80.42           4.94                     0.00        77.89         75.55           80.36           4.81                    −1.49\n",
      "          Virginia                 79.34      77.14        81.43              4.29                  0.00                 79.34             77.03                 81.60           4.57                    −1.51        77.83         75.37           80.31           4.94                    −0.83        77.00         74.45           79.61           5.16                    −2.34\n",
      "           Arizona                 79.38      76.97        81.81              4.84                   NaN                 79.31             76.64                 82.09           5.45                    −2.73        76.58         73.64           79.75           6.11                    −1.13        75.45         72.42           78.76           6.34                    −3.86\n",
      "         Wisconsin                 79.57      77.40        81.72              4.32                   NaN                 79.30             77.10                 81.54           4.44                    −1.54        77.76         75.35           80.31           4.96                    −0.01        77.75         75.21           80.45           5.24                    −1.55\n",
      "          Illinois                 79.05      76.62        81.38              4.76                  0.15                 79.20             76.64                 81.72           5.08                    −2.17        77.03         74.17           79.98           5.81                     0.31        77.34         74.46           80.31           5.85                    −1.86\n",
      "      North Dakota                 79.71      77.29        82.11              4.82                   NaN                 79.17             76.56                 81.89           5.33                    −1.81        77.36         74.52           80.47           5.95                     0.60        77.96         75.17           80.89           5.72                    −1.21\n",
      "              Iowa                 79.48      77.18        81.76              4.58                   NaN                 79.15             76.60                 81.77           5.17                    −1.55        77.60         75.09           80.24           5.15                     0.18        77.78         75.20           80.52           5.32                    −1.37\n",
      "          Maryland                 79.28      76.79        81.61              4.82                   NaN                 78.95             76.14                 81.66           5.52                    −1.74        77.21         74.25           80.16           5.91                     0.33        77.54         74.67           80.38           5.71                    −1.41\n",
      "             Texas                 78.46      76.06        80.82              4.76                  0.36                 78.82             76.37                 81.29           4.92                    −2.18        76.64         73.94           79.47           5.53                    −0.99        75.65         72.91           78.54           5.63                    −3.17\n",
      "           Montana                 78.78      76.68        80.98              4.30                   NaN                 78.63             76.37                 81.05           4.68                    −1.62        77.01         74.54           79.78           5.24                    −1.02        75.99         73.24           79.07           5.83                    −2.64\n",
      "      South Dakota                 79.13      76.62        81.53              4.91                   NaN                 78.54             76.05                 81.03           4.98                    −1.74        76.80         74.14           79.56           5.42                    −0.11        76.69         74.08           79.38           5.30                    −1.85\n",
      "             Maine                 79.11      76.51        81.69              5.18                   NaN                 78.52             75.97                 81.10           5.13                    −0.47        78.05         75.23           80.98           5.75                    −1.17        76.88         73.89           80.06           6.17                    −1.64\n",
      "      Pennsylvania                 78.64      76.10        81.12              5.02                   NaN                 78.50             75.88                 81.12           5.24                    −1.50        77.00         74.26           79.82           5.56                    −0.47        76.53         73.67           79.49           5.82                    −1.97\n",
      "          Delaware                 78.79      76.36        81.00              4.64                   NaN                 78.37             75.43                 81.22           5.79                    −1.42        76.95         74.22           79.68           5.46                    −0.46        76.49         73.49           79.56           6.07                    −1.88\n",
      "            Nevada                 78.09      75.71        80.63              4.92                  0.23                 78.32             75.93                 80.89           4.96                    −1.86        76.46         73.84           79.34           5.50                    −1.03        75.43         72.69           78.49           5.80                    −2.89\n",
      "            Kansas                 78.55      76.20        80.91              4.71                   NaN                 78.28             76.02                 80.58           4.56                    −1.75        76.53         73.97           79.26           5.29                    −0.47        76.06         73.51           78.77           5.26                    −2.22\n",
      "  Washington, D.C.                 78.09      75.44        80.41              4.97                  0.19                 78.28             75.02                 81.13           6.11                    −2.96        75.32         71.63           78.83           7.20                     0.43        75.75         72.27           78.99           6.72                    −2.53\n",
      "           Wyoming                 78.27      76.02        80.60              4.58                   NaN                 78.25             75.69                 80.97           5.28                    −1.67        76.58         74.17           79.19           5.02                    −1.38        75.20         72.75           77.91           5.16                    −3.05\n",
      "            Alaska                 78.06      75.71        80.67              4.96                  0.05                 78.11             76.12                 80.35           4.23                    −1.14        76.97         74.66           79.63           4.97                    −2.16        74.81         72.36           77.71           5.35                    −3.30\n",
      "          Michigan                 78.01      75.64        80.35              4.71                  0.07                 78.08             75.73                 80.42           4.69                    −1.91        76.17         73.61           78.83           5.22                    −0.44        75.73         72.97           78.64           5.67                    −2.35\n",
      "    North Carolina                 77.94      75.41        80.37              4.96                   NaN                 77.80             75.22                 80.32           5.10                    −1.58        76.22         73.42           79.05           5.63                    −1.20        75.02         72.12           77.99           5.87                    −2.78\n",
      "           Georgia                 77.55      75.00        79.97              4.97                  0.21                 77.76             75.26                 80.18           4.92                    −1.93        75.83         73.14           78.51           5.37                    −1.27        74.56         71.80           77.35           5.55                    −3.20\n",
      "        New Mexico                 77.61      74.84        80.46              5.62                   NaN                 77.17             74.14                 80.37           6.23                    −2.40        74.77         71.70           78.08           6.38                    −1.47        73.30         69.71           77.29           7.58                    −3.87\n",
      "          Missouri                 77.43      74.90        79.94              5.04                   NaN                 77.13             74.31                 79.99           5.68                    −1.90        75.23         72.34           78.27           5.93                    −0.47        74.76         71.73           77.95           6.22                    −2.37\n",
      "           Indiana                 77.35      74.88        79.78              4.90                   NaN                 77.12             74.60                 79.65           5.05                    −1.95        75.17         72.47           77.99           5.52                    −0.51        74.66         71.88           77.58           5.70                    −2.46\n",
      "              Ohio                 77.53      75.02        79.99              4.97                   NaN                 77.01             74.47                 79.56           5.09                    −1.62        75.39         72.72           78.16           5.44                    −0.82        74.57         71.75           77.54           5.79                    −2.44\n",
      "    South Carolina                 77.02      74.25        79.72              5.47                   NaN                 76.93             74.01                 79.83           5.82                    −2.16        74.77         71.69           77.93           6.24                    −1.19        73.58         70.52           76.74           6.22                    −3.35\n",
      "         Louisiana                 75.61      72.93        78.26              5.33                  0.28                 75.89             73.05                 78.74           5.69                    −2.70        73.19         70.08           76.46           6.38                    −0.86        72.33         68.90           75.99           7.09                    −3.56\n",
      "          Arkansas                 75.83      73.26        78.40              5.14                  0.04                 75.87             73.20                 78.61           5.41                    −1.95        73.92         71.24           76.72           5.48                    −1.25        72.67         69.83           75.70           5.87                    −3.20\n",
      "          Oklahoma                 75.62      73.28        78.00              4.72                  0.24                 75.86             73.33                 78.47           5.14                    −1.68        74.18         71.61           76.92           5.31                    −1.42        72.76         70.06           75.68           5.62                    −3.10\n",
      "         Tennessee                 76.14      73.46        78.79              5.33                   NaN                 75.77             72.94                 78.64           5.70                    −1.87        73.90         70.89           77.06           6.17                    −1.46        72.44         69.48           75.57           6.09                    −3.33\n",
      "          Kentucky                 75.74      73.11        78.39              5.28                   NaN                 75.62             73.11                 78.19           5.08                    −1.93        73.69         70.89           76.66           5.77                    −1.25        72.44         69.67           75.40           5.73                    −3.18\n",
      "           Alabama                 75.44      72.74        78.08              5.34                  0.04                 75.48             72.51                 78.46           5.95                    −1.96        73.52         70.45           76.69           6.24                    −1.34        72.18         69.02           75.48           6.46                    −3.30\n",
      "     West Virginia                 75.21      72.55        77.96              5.41                   NaN                 74.68             72.11                 77.41           5.30                    −1.69        72.99         70.06           76.22           6.16                    −1.88        71.11         68.27           74.27           6.00                    −3.57\n",
      "       Mississippi                 74.81      71.84        77.78              5.94                   NaN                 74.54             71.37                 77.75           6.38                    −2.61        71.93         68.68           75.32           6.64                    −0.96        70.97         67.71           74.39           6.68                    −3.57\n"
     ]
    }
   ],
   "source": [
    "print(\"\\nCleaned Life Expectancy Dataset:\\n\")\n",
    "print(life_expectancy_df.to_string(index=False))"
   ]
  },
  {
   "cell_type": "markdown",
   "id": "fb1615f2-f2b6-4a6e-a129-5a13952b025a",
   "metadata": {},
   "source": [
    "### Step 8: Summary of Ethical Considerations"
   ]
  },
  {
   "cell_type": "markdown",
   "id": "2da558ab-4049-4474-92a2-91ba9b9785a4",
   "metadata": {},
   "source": [
    "### Ethical Considerations of Data Wrangling\r\n",
    "\r\n",
    "1. **Changes Made**: Column headers were renamed for clarity, rows with missing values in key numeric fields were removed, casing in state/territory names was standardized, and numeric data stored as strings was converted to appropriate numeric formats. Outliers (values outside 60–90 for life expectancy) were also removed for consistency.\r\n",
    "\r\n",
    "2. **Regulatory & Legal Guidelines**: The data was sourced from a publicly available Wikipedia page, which aggregates statistics from government and health agencies (e.g., the CDC). For use in regulated environments or research, referencing and verifying against the original government sources would be necessary.\r\n",
    "\r\n",
    "3. **Risks Introduced**: Transformations may introduce bias, particularly through the removal of outliers which might represent real but extreme values. Additionally, assumptions made about missing or malformed data may misrepresent some regions.\r\n",
    "\r\n",
    "4. **Assumptions Made**: Values outside the range of 60–90 years for 2020 life expectancy were assumed to be errors or anomalies. Missing values were treated as non-usable data points.\r\n",
    "\r\n",
    "5. **Data Source Credibility**: While Wikipedia is a secondary source, it includes citations from reputable institutions. However, data from the original sources (such as CDC reports) would be more reliable for critical analysis.\r\n",
    "\r\n",
    "6. **Data Acquisition Ethics**: The dataset was collected using ethical means from a publicly accessible online source using standard data scraping methods.\r\n",
    "\r\n",
    "7. **Mitigation Strategies**: All cleaning and transformation steps were documented to ensure transparency. The use of open tools and reproducible code helps promote ethical data practices. Where possible, cross-validation with original sources is recommended to ensure data accuracy.\r\n"
   ]
  },
  {
   "cell_type": "code",
   "execution_count": null,
   "id": "9b256b47-65a8-4191-87d4-76edd01f4b43",
   "metadata": {},
   "outputs": [],
   "source": []
  }
 ],
 "metadata": {
  "kernelspec": {
   "display_name": "Python 3 (ipykernel)",
   "language": "python",
   "name": "python3"
  },
  "language_info": {
   "codemirror_mode": {
    "name": "ipython",
    "version": 3
   },
   "file_extension": ".py",
   "mimetype": "text/x-python",
   "name": "python",
   "nbconvert_exporter": "python",
   "pygments_lexer": "ipython3",
   "version": "3.12.4"
  }
 },
 "nbformat": 4,
 "nbformat_minor": 5
}
