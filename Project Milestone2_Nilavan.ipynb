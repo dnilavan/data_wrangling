{
 "cells": [
  {
   "cell_type": "markdown",
   "id": "873921e8-66c4-4f3a-bed5-555cb918de47",
   "metadata": {},
   "source": [
    "## Project Milestone 2"
   ]
  },
  {
   "cell_type": "markdown",
   "id": "3b330883-31b5-46ea-a567-a3c17afba6ba",
   "metadata": {},
   "source": [
    "### Cleaning/Formatting Flat File Source"
   ]
  },
  {
   "cell_type": "markdown",
   "id": "a4412ac1-27d7-4f5c-bb54-3623c9b4f0d3",
   "metadata": {},
   "source": [
    "### Medical Cost Personal Dataset: Data Cleansing & Transformation\n",
    "\n",
    "##### This notebook demonstrates a thorough data wrangling process on the \"Medical Cost Personal Dataset\" (Kaggle). Data wrangling steps to apply and explain at least five distinct data cleansing or transformation steps are done, ending with a human-readable, cleaned dataset and a discussion of ethical considerations.\n",
    "\n",
    "---\n",
    "\n",
    "### 1. Load and Inspect the Data\n"
   ]
  },
  {
   "cell_type": "code",
   "execution_count": 11,
   "id": "ca181159-f403-4ba4-94e1-9d76f4e582b0",
   "metadata": {},
   "outputs": [
    {
     "data": {
      "text/html": [
       "<div>\n",
       "<style scoped>\n",
       "    .dataframe tbody tr th:only-of-type {\n",
       "        vertical-align: middle;\n",
       "    }\n",
       "\n",
       "    .dataframe tbody tr th {\n",
       "        vertical-align: top;\n",
       "    }\n",
       "\n",
       "    .dataframe thead th {\n",
       "        text-align: right;\n",
       "    }\n",
       "</style>\n",
       "<table border=\"1\" class=\"dataframe\">\n",
       "  <thead>\n",
       "    <tr style=\"text-align: right;\">\n",
       "      <th></th>\n",
       "      <th>age</th>\n",
       "      <th>sex</th>\n",
       "      <th>bmi</th>\n",
       "      <th>children</th>\n",
       "      <th>smoker</th>\n",
       "      <th>region</th>\n",
       "      <th>charges</th>\n",
       "    </tr>\n",
       "  </thead>\n",
       "  <tbody>\n",
       "    <tr>\n",
       "      <th>0</th>\n",
       "      <td>19</td>\n",
       "      <td>female</td>\n",
       "      <td>27.900</td>\n",
       "      <td>0</td>\n",
       "      <td>yes</td>\n",
       "      <td>southwest</td>\n",
       "      <td>16884.92400</td>\n",
       "    </tr>\n",
       "    <tr>\n",
       "      <th>1</th>\n",
       "      <td>18</td>\n",
       "      <td>male</td>\n",
       "      <td>33.770</td>\n",
       "      <td>1</td>\n",
       "      <td>no</td>\n",
       "      <td>southeast</td>\n",
       "      <td>1725.55230</td>\n",
       "    </tr>\n",
       "    <tr>\n",
       "      <th>2</th>\n",
       "      <td>28</td>\n",
       "      <td>male</td>\n",
       "      <td>33.000</td>\n",
       "      <td>3</td>\n",
       "      <td>no</td>\n",
       "      <td>southeast</td>\n",
       "      <td>4449.46200</td>\n",
       "    </tr>\n",
       "    <tr>\n",
       "      <th>3</th>\n",
       "      <td>33</td>\n",
       "      <td>male</td>\n",
       "      <td>22.705</td>\n",
       "      <td>0</td>\n",
       "      <td>no</td>\n",
       "      <td>northwest</td>\n",
       "      <td>21984.47061</td>\n",
       "    </tr>\n",
       "    <tr>\n",
       "      <th>4</th>\n",
       "      <td>32</td>\n",
       "      <td>male</td>\n",
       "      <td>28.880</td>\n",
       "      <td>0</td>\n",
       "      <td>no</td>\n",
       "      <td>northwest</td>\n",
       "      <td>3866.85520</td>\n",
       "    </tr>\n",
       "  </tbody>\n",
       "</table>\n",
       "</div>"
      ],
      "text/plain": [
       "   age     sex     bmi  children smoker     region      charges\n",
       "0   19  female  27.900         0    yes  southwest  16884.92400\n",
       "1   18    male  33.770         1     no  southeast   1725.55230\n",
       "2   28    male  33.000         3     no  southeast   4449.46200\n",
       "3   33    male  22.705         0     no  northwest  21984.47061\n",
       "4   32    male  28.880         0     no  northwest   3866.85520"
      ]
     },
     "execution_count": 11,
     "metadata": {},
     "output_type": "execute_result"
    }
   ],
   "source": [
    "import pandas as pd\n",
    "\n",
    "# Load the dataset\n",
    "df = pd.read_csv('insurance_medical.csv') \n",
    "\n",
    "# Preview the first few rows\n",
    "df.head()\n"
   ]
  },
  {
   "cell_type": "markdown",
   "id": "eeafc364-3591-4453-a381-674810350f47",
   "metadata": {},
   "source": [
    "### Data Overview\n",
    "\n",
    "Checking data types, missing values, and basic stats to understand what transformations are needed.\n"
   ]
  },
  {
   "cell_type": "code",
   "execution_count": 16,
   "id": "c45e0fce-515e-4bd4-8405-f0542f415b69",
   "metadata": {},
   "outputs": [
    {
     "name": "stdout",
     "output_type": "stream",
     "text": [
      "<class 'pandas.core.frame.DataFrame'>\n",
      "RangeIndex: 1338 entries, 0 to 1337\n",
      "Data columns (total 7 columns):\n",
      " #   Column    Non-Null Count  Dtype  \n",
      "---  ------    --------------  -----  \n",
      " 0   age       1338 non-null   int64  \n",
      " 1   sex       1338 non-null   object \n",
      " 2   bmi       1338 non-null   float64\n",
      " 3   children  1338 non-null   int64  \n",
      " 4   smoker    1338 non-null   object \n",
      " 5   region    1338 non-null   object \n",
      " 6   charges   1338 non-null   float64\n",
      "dtypes: float64(2), int64(2), object(3)\n",
      "memory usage: 73.3+ KB\n"
     ]
    },
    {
     "data": {
      "text/plain": [
       "age         0\n",
       "sex         0\n",
       "bmi         0\n",
       "children    0\n",
       "smoker      0\n",
       "region      0\n",
       "charges     0\n",
       "dtype: int64"
      ]
     },
     "execution_count": 16,
     "metadata": {},
     "output_type": "execute_result"
    }
   ],
   "source": [
    "# General info and statistics\n",
    "df.info()\n",
    "df.describe(include='all')\n",
    "df.isnull().sum()\n"
   ]
  },
  {
   "cell_type": "markdown",
   "id": "1eea33cb-546e-48dc-b829-c2294f44abe1",
   "metadata": {},
   "source": [
    "### 2. Data Transformation & Cleansing Steps\n",
    "\n",
    "Below are at least **five clearly labeled and described transformation steps.**\n"
   ]
  },
  {
   "cell_type": "markdown",
   "id": "1e5b9364-be00-4ca8-8509-309d75aca764",
   "metadata": {},
   "source": [
    "### Step 1: Standardize Column Headers\n",
    "\n",
    "Ensure all column names are lowercase, trimmed, and use underscores for consistency.\n"
   ]
  },
  {
   "cell_type": "code",
   "execution_count": 24,
   "id": "6fb7db63-31c1-43b0-b433-d54b3c847748",
   "metadata": {},
   "outputs": [
    {
     "name": "stdout",
     "output_type": "stream",
     "text": [
      "Index(['age', 'sex', 'bmi', 'children', 'smoker', 'region', 'charges'], dtype='object')\n"
     ]
    }
   ],
   "source": [
    "df.columns = [col.strip().lower().replace(' ', '_') for col in df.columns]\n",
    "print(df.columns)\n"
   ]
  },
  {
   "cell_type": "markdown",
   "id": "25b91c84-ccc3-43b6-88c2-f895e7472035",
   "metadata": {},
   "source": [
    "### Step 2: Consistent Casing & Values in Categorical Columns\n",
    "\n",
    "- Standardize `sex`, `smoker`, and `region` columns to lowercase and remove extra whitespace.\n",
    "- Fix any inconsistent or misspelled values (if found).\n"
   ]
  },
  {
   "cell_type": "code",
   "execution_count": 29,
   "id": "8a321896-530b-4a56-80fd-3e18ff5ee7ad",
   "metadata": {},
   "outputs": [
    {
     "data": {
      "text/plain": [
       "(sex\n",
       " male      676\n",
       " female    662\n",
       " Name: count, dtype: int64,\n",
       " smoker\n",
       " no     1064\n",
       " yes     274\n",
       " Name: count, dtype: int64,\n",
       " region\n",
       " southeast    364\n",
       " southwest    325\n",
       " northwest    325\n",
       " northeast    324\n",
       " Name: count, dtype: int64)"
      ]
     },
     "execution_count": 29,
     "metadata": {},
     "output_type": "execute_result"
    }
   ],
   "source": [
    "for col in ['sex', 'smoker', 'region']:\n",
    "    df[col] = df[col].str.strip().str.lower()\n",
    "df['sex'].value_counts(), df['smoker'].value_counts(), df['region'].value_counts()\n",
    "\n"
   ]
  },
  {
   "cell_type": "markdown",
   "id": "8da3e79a-2fe8-4941-9d93-9f7b21bec8fd",
   "metadata": {},
   "source": [
    "### Step 3: Remove Duplicate Rows\n",
    "\n",
    "Check for and remove any duplicate rows to ensure data quality.\n"
   ]
  },
  {
   "cell_type": "code",
   "execution_count": 32,
   "id": "23342967-77a6-4271-8d65-63c71194a638",
   "metadata": {},
   "outputs": [
    {
     "name": "stdout",
     "output_type": "stream",
     "text": [
      "Duplicates before removal: 1\n",
      "Duplicates after removal: 0\n"
     ]
    }
   ],
   "source": [
    "print(\"Duplicates before removal:\", df.duplicated().sum())\n",
    "df = df.drop_duplicates()\n",
    "print(\"Duplicates after removal:\", df.duplicated().sum())\n"
   ]
  },
  {
   "cell_type": "markdown",
   "id": "08aedc17-4cb1-4959-a6bc-8a0f6e6d6e38",
   "metadata": {},
   "source": [
    "### Step 4: Identify & Handle Outliers\n",
    "\n",
    "Identify outliers in `bmi` and `charges` using the IQR (Interquartile Range) method.  \n",
    "Flag extreme outliers and, for this dataset, remove them for clarity.\n"
   ]
  },
  {
   "cell_type": "code",
   "execution_count": 37,
   "id": "d1b29b32-7f0a-473c-98cb-9ebaf779dc44",
   "metadata": {},
   "outputs": [
    {
     "name": "stdout",
     "output_type": "stream",
     "text": [
      "Outliers in 'bmi': 9\n",
      "Outliers in 'charges': 138\n"
     ]
    }
   ],
   "source": [
    "def remove_outliers_iqr(data, column):\n",
    "    Q1 = data[column].quantile(0.25)\n",
    "    Q3 = data[column].quantile(0.75)\n",
    "    IQR = Q3 - Q1\n",
    "    lower = Q1 - 1.5 * IQR\n",
    "    upper = Q3 + 1.5 * IQR\n",
    "    # Print how many are outliers\n",
    "    print(f\"Outliers in '{column}':\", ((data[column] < lower) | (data[column] > upper)).sum())\n",
    "    # Remove outliers\n",
    "    return data[(data[column] >= lower) & (data[column] <= upper)]\n",
    "\n",
    "# Remove outliers for 'bmi' and 'charges'\n",
    "df = remove_outliers_iqr(df, 'bmi')\n",
    "df = remove_outliers_iqr(df, 'charges')\n"
   ]
  },
  {
   "cell_type": "markdown",
   "id": "fcabe876-452f-4be6-81c8-2d07a8eaa7dc",
   "metadata": {},
   "source": [
    "### Step 5: Fix Data Types\n",
    "\n",
    "- Ensure `children` is integer, not float.\n",
    "- Confirm all columns have appropriate data types.\n"
   ]
  },
  {
   "cell_type": "code",
   "execution_count": 40,
   "id": "e6dd1317-a671-4f55-879b-15a369d2f876",
   "metadata": {},
   "outputs": [
    {
     "data": {
      "text/plain": [
       "age           int64\n",
       "sex          object\n",
       "bmi         float64\n",
       "children      int32\n",
       "smoker       object\n",
       "region       object\n",
       "charges     float64\n",
       "dtype: object"
      ]
     },
     "execution_count": 40,
     "metadata": {},
     "output_type": "execute_result"
    }
   ],
   "source": [
    "df['children'] = df['children'].astype(int)\n",
    "df.dtypes\n"
   ]
  },
  {
   "cell_type": "markdown",
   "id": "fe208890-00db-48f5-812d-160a3f5fbcb1",
   "metadata": {},
   "source": [
    "### Step 6: Feature Engineering – Add BMI Category\n",
    "\n",
    "Create a new column that categorizes BMI as 'underweight', 'normal', 'overweight', or 'obese' based on CDC guidelines.\n"
   ]
  },
  {
   "cell_type": "code",
   "execution_count": 45,
   "id": "a6e9ddf2-856c-40a9-80a5-6e9a81521811",
   "metadata": {},
   "outputs": [
    {
     "data": {
      "text/plain": [
       "bmi_category\n",
       "obese          564\n",
       "overweight     382\n",
       "normal         224\n",
       "underweight     20\n",
       "Name: count, dtype: int64"
      ]
     },
     "execution_count": 45,
     "metadata": {},
     "output_type": "execute_result"
    }
   ],
   "source": [
    "def bmi_category(bmi):\n",
    "    if bmi < 18.5:\n",
    "        return 'underweight'\n",
    "    elif 18.5 <= bmi < 25:\n",
    "        return 'normal'\n",
    "    elif 25 <= bmi < 30:\n",
    "        return 'overweight'\n",
    "    else:\n",
    "        return 'obese'\n",
    "df['bmi_category'] = df['bmi'].apply(bmi_category)\n",
    "df['bmi_category'].value_counts()\n"
   ]
  },
  {
   "cell_type": "markdown",
   "id": "1d31efa3-57c5-4837-a481-424398ce3bb4",
   "metadata": {},
   "source": [
    "## 3. Final Cleaned Dataset\n",
    "\n",
    "Below is the final, human-readable, cleaned dataset after all transformations.\n"
   ]
  },
  {
   "cell_type": "code",
   "execution_count": 48,
   "id": "5cbf3160-8a55-4559-b3bc-c4d75c93003c",
   "metadata": {},
   "outputs": [
    {
     "data": {
      "text/html": [
       "<div>\n",
       "<style scoped>\n",
       "    .dataframe tbody tr th:only-of-type {\n",
       "        vertical-align: middle;\n",
       "    }\n",
       "\n",
       "    .dataframe tbody tr th {\n",
       "        vertical-align: top;\n",
       "    }\n",
       "\n",
       "    .dataframe thead th {\n",
       "        text-align: right;\n",
       "    }\n",
       "</style>\n",
       "<table border=\"1\" class=\"dataframe\">\n",
       "  <thead>\n",
       "    <tr style=\"text-align: right;\">\n",
       "      <th></th>\n",
       "      <th>age</th>\n",
       "      <th>sex</th>\n",
       "      <th>bmi</th>\n",
       "      <th>children</th>\n",
       "      <th>smoker</th>\n",
       "      <th>region</th>\n",
       "      <th>charges</th>\n",
       "      <th>bmi_category</th>\n",
       "    </tr>\n",
       "  </thead>\n",
       "  <tbody>\n",
       "    <tr>\n",
       "      <th>0</th>\n",
       "      <td>19</td>\n",
       "      <td>female</td>\n",
       "      <td>27.900</td>\n",
       "      <td>0</td>\n",
       "      <td>yes</td>\n",
       "      <td>southwest</td>\n",
       "      <td>16884.92400</td>\n",
       "      <td>overweight</td>\n",
       "    </tr>\n",
       "    <tr>\n",
       "      <th>1</th>\n",
       "      <td>18</td>\n",
       "      <td>male</td>\n",
       "      <td>33.770</td>\n",
       "      <td>1</td>\n",
       "      <td>no</td>\n",
       "      <td>southeast</td>\n",
       "      <td>1725.55230</td>\n",
       "      <td>obese</td>\n",
       "    </tr>\n",
       "    <tr>\n",
       "      <th>2</th>\n",
       "      <td>28</td>\n",
       "      <td>male</td>\n",
       "      <td>33.000</td>\n",
       "      <td>3</td>\n",
       "      <td>no</td>\n",
       "      <td>southeast</td>\n",
       "      <td>4449.46200</td>\n",
       "      <td>obese</td>\n",
       "    </tr>\n",
       "    <tr>\n",
       "      <th>3</th>\n",
       "      <td>33</td>\n",
       "      <td>male</td>\n",
       "      <td>22.705</td>\n",
       "      <td>0</td>\n",
       "      <td>no</td>\n",
       "      <td>northwest</td>\n",
       "      <td>21984.47061</td>\n",
       "      <td>normal</td>\n",
       "    </tr>\n",
       "    <tr>\n",
       "      <th>4</th>\n",
       "      <td>32</td>\n",
       "      <td>male</td>\n",
       "      <td>28.880</td>\n",
       "      <td>0</td>\n",
       "      <td>no</td>\n",
       "      <td>northwest</td>\n",
       "      <td>3866.85520</td>\n",
       "      <td>overweight</td>\n",
       "    </tr>\n",
       "    <tr>\n",
       "      <th>5</th>\n",
       "      <td>31</td>\n",
       "      <td>female</td>\n",
       "      <td>25.740</td>\n",
       "      <td>0</td>\n",
       "      <td>no</td>\n",
       "      <td>southeast</td>\n",
       "      <td>3756.62160</td>\n",
       "      <td>overweight</td>\n",
       "    </tr>\n",
       "    <tr>\n",
       "      <th>6</th>\n",
       "      <td>46</td>\n",
       "      <td>female</td>\n",
       "      <td>33.440</td>\n",
       "      <td>1</td>\n",
       "      <td>no</td>\n",
       "      <td>southeast</td>\n",
       "      <td>8240.58960</td>\n",
       "      <td>obese</td>\n",
       "    </tr>\n",
       "    <tr>\n",
       "      <th>7</th>\n",
       "      <td>37</td>\n",
       "      <td>female</td>\n",
       "      <td>27.740</td>\n",
       "      <td>3</td>\n",
       "      <td>no</td>\n",
       "      <td>northwest</td>\n",
       "      <td>7281.50560</td>\n",
       "      <td>overweight</td>\n",
       "    </tr>\n",
       "    <tr>\n",
       "      <th>8</th>\n",
       "      <td>37</td>\n",
       "      <td>male</td>\n",
       "      <td>29.830</td>\n",
       "      <td>2</td>\n",
       "      <td>no</td>\n",
       "      <td>northeast</td>\n",
       "      <td>6406.41070</td>\n",
       "      <td>overweight</td>\n",
       "    </tr>\n",
       "    <tr>\n",
       "      <th>9</th>\n",
       "      <td>60</td>\n",
       "      <td>female</td>\n",
       "      <td>25.840</td>\n",
       "      <td>0</td>\n",
       "      <td>no</td>\n",
       "      <td>northwest</td>\n",
       "      <td>28923.13692</td>\n",
       "      <td>overweight</td>\n",
       "    </tr>\n",
       "    <tr>\n",
       "      <th>10</th>\n",
       "      <td>25</td>\n",
       "      <td>male</td>\n",
       "      <td>26.220</td>\n",
       "      <td>0</td>\n",
       "      <td>no</td>\n",
       "      <td>northeast</td>\n",
       "      <td>2721.32080</td>\n",
       "      <td>overweight</td>\n",
       "    </tr>\n",
       "    <tr>\n",
       "      <th>11</th>\n",
       "      <td>62</td>\n",
       "      <td>female</td>\n",
       "      <td>26.290</td>\n",
       "      <td>0</td>\n",
       "      <td>yes</td>\n",
       "      <td>southeast</td>\n",
       "      <td>27808.72510</td>\n",
       "      <td>overweight</td>\n",
       "    </tr>\n",
       "    <tr>\n",
       "      <th>12</th>\n",
       "      <td>23</td>\n",
       "      <td>male</td>\n",
       "      <td>34.400</td>\n",
       "      <td>0</td>\n",
       "      <td>no</td>\n",
       "      <td>southwest</td>\n",
       "      <td>1826.84300</td>\n",
       "      <td>obese</td>\n",
       "    </tr>\n",
       "    <tr>\n",
       "      <th>13</th>\n",
       "      <td>56</td>\n",
       "      <td>female</td>\n",
       "      <td>39.820</td>\n",
       "      <td>0</td>\n",
       "      <td>no</td>\n",
       "      <td>southeast</td>\n",
       "      <td>11090.71780</td>\n",
       "      <td>obese</td>\n",
       "    </tr>\n",
       "    <tr>\n",
       "      <th>14</th>\n",
       "      <td>19</td>\n",
       "      <td>male</td>\n",
       "      <td>24.600</td>\n",
       "      <td>1</td>\n",
       "      <td>no</td>\n",
       "      <td>southwest</td>\n",
       "      <td>1837.23700</td>\n",
       "      <td>normal</td>\n",
       "    </tr>\n",
       "    <tr>\n",
       "      <th>15</th>\n",
       "      <td>52</td>\n",
       "      <td>female</td>\n",
       "      <td>30.780</td>\n",
       "      <td>1</td>\n",
       "      <td>no</td>\n",
       "      <td>northeast</td>\n",
       "      <td>10797.33620</td>\n",
       "      <td>obese</td>\n",
       "    </tr>\n",
       "    <tr>\n",
       "      <th>16</th>\n",
       "      <td>23</td>\n",
       "      <td>male</td>\n",
       "      <td>23.845</td>\n",
       "      <td>0</td>\n",
       "      <td>no</td>\n",
       "      <td>northeast</td>\n",
       "      <td>2395.17155</td>\n",
       "      <td>normal</td>\n",
       "    </tr>\n",
       "    <tr>\n",
       "      <th>17</th>\n",
       "      <td>56</td>\n",
       "      <td>male</td>\n",
       "      <td>40.300</td>\n",
       "      <td>0</td>\n",
       "      <td>no</td>\n",
       "      <td>southwest</td>\n",
       "      <td>10602.38500</td>\n",
       "      <td>obese</td>\n",
       "    </tr>\n",
       "    <tr>\n",
       "      <th>18</th>\n",
       "      <td>60</td>\n",
       "      <td>female</td>\n",
       "      <td>36.005</td>\n",
       "      <td>0</td>\n",
       "      <td>no</td>\n",
       "      <td>northeast</td>\n",
       "      <td>13228.84695</td>\n",
       "      <td>obese</td>\n",
       "    </tr>\n",
       "    <tr>\n",
       "      <th>19</th>\n",
       "      <td>30</td>\n",
       "      <td>female</td>\n",
       "      <td>32.400</td>\n",
       "      <td>1</td>\n",
       "      <td>no</td>\n",
       "      <td>southwest</td>\n",
       "      <td>4149.73600</td>\n",
       "      <td>obese</td>\n",
       "    </tr>\n",
       "  </tbody>\n",
       "</table>\n",
       "</div>"
      ],
      "text/plain": [
       "    age     sex     bmi  children smoker     region      charges bmi_category\n",
       "0    19  female  27.900         0    yes  southwest  16884.92400   overweight\n",
       "1    18    male  33.770         1     no  southeast   1725.55230        obese\n",
       "2    28    male  33.000         3     no  southeast   4449.46200        obese\n",
       "3    33    male  22.705         0     no  northwest  21984.47061       normal\n",
       "4    32    male  28.880         0     no  northwest   3866.85520   overweight\n",
       "5    31  female  25.740         0     no  southeast   3756.62160   overweight\n",
       "6    46  female  33.440         1     no  southeast   8240.58960        obese\n",
       "7    37  female  27.740         3     no  northwest   7281.50560   overweight\n",
       "8    37    male  29.830         2     no  northeast   6406.41070   overweight\n",
       "9    60  female  25.840         0     no  northwest  28923.13692   overweight\n",
       "10   25    male  26.220         0     no  northeast   2721.32080   overweight\n",
       "11   62  female  26.290         0    yes  southeast  27808.72510   overweight\n",
       "12   23    male  34.400         0     no  southwest   1826.84300        obese\n",
       "13   56  female  39.820         0     no  southeast  11090.71780        obese\n",
       "14   19    male  24.600         1     no  southwest   1837.23700       normal\n",
       "15   52  female  30.780         1     no  northeast  10797.33620        obese\n",
       "16   23    male  23.845         0     no  northeast   2395.17155       normal\n",
       "17   56    male  40.300         0     no  southwest  10602.38500        obese\n",
       "18   60  female  36.005         0     no  northeast  13228.84695        obese\n",
       "19   30  female  32.400         1     no  southwest   4149.73600        obese"
      ]
     },
     "execution_count": 48,
     "metadata": {},
     "output_type": "execute_result"
    }
   ],
   "source": [
    "df.reset_index(drop=True, inplace=True)\n",
    "df.head(20)  # Show first 20 rows for readability\n"
   ]
  },
  {
   "cell_type": "markdown",
   "id": "48d4e30d-8521-406a-9682-3744527570fc",
   "metadata": {},
   "source": [
    "## 4. Ethical Implications of Data Wrangling\n",
    "\n",
    "Below is a short discussion of the ethical considerations, legal/regulatory risks, and steps taken for this project.\n",
    "\n",
    "---\n",
    "\n",
    "#### **Ethical Implications**\n",
    "\n",
    "In this project, data wrangling steps were taken to standardize categorical values, removing duplicate rows, handling outliers, fixing data types, and adding a derived BMI category for clarity. No personal identifiers were present; however, data transformations can risk losing valuable information, especially when removing outliers or duplicates, which may bias analysis against underrepresented populations. For insurance data, regulatory guidelines like HIPAA (if any sensitive data was present) must be observed; although our dataset is anonymized and public, care was taken to retain the meaning of original data fields. Assumptions were made that extreme outliers represented errors or rare cases that could unduly influence predictive models. The dataset was sourced from Kaggle, a reputable public data sharing platform, but its origin should be further validated before using it for production analytics. Ethical data handling also means documenting all transformations transparently, so others can reproduce or challenge the choices made. To mitigate risks, transformations should be justified, minimal, and reversible, and all steps should be documented clearly as shown here.\n",
    "\n",
    "---\n"
   ]
  },
  {
   "cell_type": "code",
   "execution_count": null,
   "id": "55eb4d43-7f67-4c79-b7fd-b29e09d40f03",
   "metadata": {},
   "outputs": [],
   "source": []
  }
 ],
 "metadata": {
  "kernelspec": {
   "display_name": "Python 3 (ipykernel)",
   "language": "python",
   "name": "python3"
  },
  "language_info": {
   "codemirror_mode": {
    "name": "ipython",
    "version": 3
   },
   "file_extension": ".py",
   "mimetype": "text/x-python",
   "name": "python",
   "nbconvert_exporter": "python",
   "pygments_lexer": "ipython3",
   "version": "3.12.4"
  }
 },
 "nbformat": 4,
 "nbformat_minor": 5
}
